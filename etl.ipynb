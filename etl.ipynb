{
 "cells": [
  {
   "cell_type": "markdown",
   "metadata": {},
   "source": [
    "# ETL Processes\n",
    "Use this notebook to develop the ETL process for each of your tables before completing the `etl.py` file to load the whole datasets."
   ]
  },
  {
   "cell_type": "code",
   "execution_count": 1,
   "outputs": [
    {
     "ename": "ObjectInUse",
     "evalue": "database \"sparkifydb\" is being accessed by other users\nDETAIL:  There is 1 other session using the database.\n",
     "output_type": "error",
     "traceback": [
      "\u001B[1;31m---------------------------------------------------------------------------\u001B[0m",
      "\u001B[1;31mObjectInUse\u001B[0m                               Traceback (most recent call last)",
      "\u001B[1;32m~\\Google Drive\\Udacity\\dend\\_workspace\\Part 02-Module 01-Lesson 03_Project Data Modeling with Postgres\\create_tables.py\u001B[0m in \u001B[0;36m<module>\u001B[1;34m\u001B[0m\n\u001B[0;32m     68\u001B[0m \u001B[1;33m\u001B[0m\u001B[0m\n\u001B[0;32m     69\u001B[0m \u001B[1;32mif\u001B[0m \u001B[0m__name__\u001B[0m \u001B[1;33m==\u001B[0m \u001B[1;34m\"__main__\"\u001B[0m\u001B[1;33m:\u001B[0m\u001B[1;33m\u001B[0m\u001B[1;33m\u001B[0m\u001B[0m\n\u001B[1;32m---> 70\u001B[1;33m     \u001B[0mmain\u001B[0m\u001B[1;33m(\u001B[0m\u001B[1;33m)\u001B[0m\u001B[1;33m\u001B[0m\u001B[1;33m\u001B[0m\u001B[0m\n\u001B[0m",
      "\u001B[1;32m~\\Google Drive\\Udacity\\dend\\_workspace\\Part 02-Module 01-Lesson 03_Project Data Modeling with Postgres\\create_tables.py\u001B[0m in \u001B[0;36mmain\u001B[1;34m()\u001B[0m\n\u001B[0;32m     59\u001B[0m     \u001B[1;33m-\u001B[0m \u001B[0mFinally\u001B[0m\u001B[1;33m,\u001B[0m \u001B[0mcloses\u001B[0m \u001B[0mthe\u001B[0m \u001B[0mconnection\u001B[0m\u001B[1;33m.\u001B[0m\u001B[1;33m\u001B[0m\u001B[1;33m\u001B[0m\u001B[0m\n\u001B[0;32m     60\u001B[0m     \"\"\"\n\u001B[1;32m---> 61\u001B[1;33m     \u001B[0mcur\u001B[0m\u001B[1;33m,\u001B[0m \u001B[0mconn\u001B[0m \u001B[1;33m=\u001B[0m \u001B[0mcreate_database\u001B[0m\u001B[1;33m(\u001B[0m\u001B[1;33m)\u001B[0m\u001B[1;33m\u001B[0m\u001B[1;33m\u001B[0m\u001B[0m\n\u001B[0m\u001B[0;32m     62\u001B[0m \u001B[1;33m\u001B[0m\u001B[0m\n\u001B[0;32m     63\u001B[0m     \u001B[0mdrop_tables\u001B[0m\u001B[1;33m(\u001B[0m\u001B[0mcur\u001B[0m\u001B[1;33m,\u001B[0m \u001B[0mconn\u001B[0m\u001B[1;33m)\u001B[0m\u001B[1;33m\u001B[0m\u001B[1;33m\u001B[0m\u001B[0m\n",
      "\u001B[1;32m~\\Google Drive\\Udacity\\dend\\_workspace\\Part 02-Module 01-Lesson 03_Project Data Modeling with Postgres\\create_tables.py\u001B[0m in \u001B[0;36mcreate_database\u001B[1;34m()\u001B[0m\n\u001B[0;32m     15\u001B[0m \u001B[1;33m\u001B[0m\u001B[0m\n\u001B[0;32m     16\u001B[0m     \u001B[1;31m# create sparkify database with UTF8 encoding\u001B[0m\u001B[1;33m\u001B[0m\u001B[1;33m\u001B[0m\u001B[1;33m\u001B[0m\u001B[0m\n\u001B[1;32m---> 17\u001B[1;33m     \u001B[0mcur\u001B[0m\u001B[1;33m.\u001B[0m\u001B[0mexecute\u001B[0m\u001B[1;33m(\u001B[0m\u001B[1;34m\"DROP DATABASE IF EXISTS sparkifydb\"\u001B[0m\u001B[1;33m)\u001B[0m\u001B[1;33m\u001B[0m\u001B[1;33m\u001B[0m\u001B[0m\n\u001B[0m\u001B[0;32m     18\u001B[0m     \u001B[0mcur\u001B[0m\u001B[1;33m.\u001B[0m\u001B[0mexecute\u001B[0m\u001B[1;33m(\u001B[0m\u001B[1;34m\"CREATE DATABASE sparkifydb WITH ENCODING 'utf8' TEMPLATE template0\"\u001B[0m\u001B[1;33m)\u001B[0m\u001B[1;33m\u001B[0m\u001B[1;33m\u001B[0m\u001B[0m\n\u001B[0;32m     19\u001B[0m \u001B[1;33m\u001B[0m\u001B[0m\n",
      "\u001B[1;31mObjectInUse\u001B[0m: database \"sparkifydb\" is being accessed by other users\nDETAIL:  There is 1 other session using the database.\n"
     ]
    }
   ],
   "source": [
    "%run create_tables.py"
   ],
   "metadata": {
    "collapsed": false,
    "pycharm": {
     "name": "#%%\n"
    }
   }
  },
  {
   "cell_type": "code",
   "execution_count": 2,
   "metadata": {},
   "outputs": [],
   "source": [
    "import os\n",
    "import glob\n",
    "import psycopg2\n",
    "import pandas as pd\n",
    "from sql_queries import *"
   ]
  },
  {
   "cell_type": "code",
   "execution_count": 3,
   "metadata": {},
   "outputs": [],
   "source": [
    "conn = psycopg2.connect(\"host=127.0.0.1 dbname=sparkifydb user=student password=student\")\n",
    "cur = conn.cursor()"
   ]
  },
  {
   "cell_type": "code",
   "execution_count": 4,
   "metadata": {},
   "outputs": [],
   "source": [
    "def get_files(filepath):\n",
    "    all_files = []\n",
    "    for root, dirs, files in os.walk(filepath):\n",
    "        files = glob.glob(os.path.join(root,'*.json'))\n",
    "        for f in files :\n",
    "            all_files.append(os.path.abspath(f))\n",
    "    \n",
    "    return all_files"
   ]
  },
  {
   "cell_type": "markdown",
   "metadata": {},
   "source": [
    "# Process `song_data`\n",
    "In this first part, you'll perform ETL on the first dataset, `song_data`, to create the `songs` and `artists` dimensional tables.\n",
    "\n",
    "Let's perform ETL on a single song file and load a single record into each table to start.\n",
    "- Use the `get_files` function provided above to get a list of all song JSON files in `data/song_data`\n",
    "- Select the first song in this list\n",
    "- Read the song file and view the data"
   ]
  },
  {
   "cell_type": "code",
   "execution_count": 5,
   "outputs": [],
   "source": [
    "song_files = get_files('./data/song_data')"
   ],
   "metadata": {
    "collapsed": false,
    "pycharm": {
     "name": "#%%\n"
    }
   }
  },
  {
   "cell_type": "code",
   "execution_count": 6,
   "outputs": [],
   "source": [
    "filepath = song_files[0]"
   ],
   "metadata": {
    "collapsed": false,
    "pycharm": {
     "name": "#%%\n"
    }
   }
  },
  {
   "cell_type": "code",
   "execution_count": 10,
   "outputs": [
    {
     "data": {
      "text/plain": "   num_songs           artist_id  artist_latitude  artist_longitude  \\\n0          1  ARD7TVE1187B99BFB1              NaN               NaN   \n\n   artist_location artist_name             song_id             title  \\\n0  California - LA      Casual  SOMZWCG12A8C13C480  I Didn't Mean To   \n\n    duration  year  \n0  218.93179     0  ",
      "text/html": "<div>\n<style scoped>\n    .dataframe tbody tr th:only-of-type {\n        vertical-align: middle;\n    }\n\n    .dataframe tbody tr th {\n        vertical-align: top;\n    }\n\n    .dataframe thead th {\n        text-align: right;\n    }\n</style>\n<table border=\"1\" class=\"dataframe\">\n  <thead>\n    <tr style=\"text-align: right;\">\n      <th></th>\n      <th>num_songs</th>\n      <th>artist_id</th>\n      <th>artist_latitude</th>\n      <th>artist_longitude</th>\n      <th>artist_location</th>\n      <th>artist_name</th>\n      <th>song_id</th>\n      <th>title</th>\n      <th>duration</th>\n      <th>year</th>\n    </tr>\n  </thead>\n  <tbody>\n    <tr>\n      <th>0</th>\n      <td>1</td>\n      <td>ARD7TVE1187B99BFB1</td>\n      <td>NaN</td>\n      <td>NaN</td>\n      <td>California - LA</td>\n      <td>Casual</td>\n      <td>SOMZWCG12A8C13C480</td>\n      <td>I Didn't Mean To</td>\n      <td>218.93179</td>\n      <td>0</td>\n    </tr>\n  </tbody>\n</table>\n</div>"
     },
     "execution_count": 10,
     "metadata": {},
     "output_type": "execute_result"
    }
   ],
   "source": [
    "df = pd.read_json(filepath, lines=True, typ='frame', orient='columns')\n",
    "df.head()"
   ],
   "metadata": {
    "collapsed": false,
    "pycharm": {
     "name": "#%%\n"
    }
   }
  },
  {
   "cell_type": "markdown",
   "source": [
    "## #1: `songs` Table\n",
    "#### Extract Data for Songs Table\n",
    "- Select columns for song ID, title, artist ID, year, and duration\n",
    "- Use `df.values` to select just the values from the dataframe\n",
    "- Index to select the first (only) record in the dataframe\n",
    "- Convert the array to a list and set it to `song_data`"
   ],
   "metadata": {
    "collapsed": false
   }
  },
  {
   "cell_type": "code",
   "execution_count": 8,
   "outputs": [
    {
     "data": {
      "text/plain": "['SOMZWCG12A8C13C480', \"I Didn't Mean To\", 'ARD7TVE1187B99BFB1', 0, 218.93179]"
     },
     "execution_count": 8,
     "metadata": {},
     "output_type": "execute_result"
    }
   ],
   "source": [
    "song_data = df.loc[0, ['song_id', 'title', 'artist_id', 'year', 'duration']].to_list()\n",
    "song_data"
   ],
   "metadata": {
    "collapsed": false,
    "pycharm": {
     "name": "#%%\n"
    }
   }
  },
  {
   "cell_type": "markdown",
   "metadata": {},
   "source": [
    "#### Insert Record into Song Table\n",
    "Implement the `song_table_insert` query in `sql_queries.py` and run the cell below to insert a record for this song into the `songs` table. Remember to run `create_tables.py` before running the cell below to ensure you've created/resetted the `songs` table in the sparkify database."
   ]
  },
  {
   "cell_type": "code",
   "execution_count": 9,
   "metadata": {},
   "outputs": [],
   "source": [
    "cur.execute(song_table_insert, song_data)\n",
    "conn.commit()"
   ]
  },
  {
   "cell_type": "markdown",
   "metadata": {},
   "source": [
    "Run `test.ipynb` to see if you've successfully added a record to this table."
   ]
  },
  {
   "cell_type": "markdown",
   "metadata": {},
   "source": [
    "## #2: `artists` Table\n",
    "#### Extract Data for Artists Table\n",
    "- Select columns for artist ID, name, location, latitude, and longitude\n",
    "- Use `df.values` to select just the values from the dataframe\n",
    "- Index to select the first (only) record in the dataframe\n",
    "- Convert the array to a list and set it to `artist_data`"
   ]
  },
  {
   "cell_type": "code",
   "execution_count": 11,
   "metadata": {},
   "outputs": [
    {
     "data": {
      "text/plain": "['ARD7TVE1187B99BFB1', 'Casual', 'California - LA', None, None]"
     },
     "execution_count": 11,
     "metadata": {},
     "output_type": "execute_result"
    }
   ],
   "source": [
    "artist_data = df[[\n",
    "    'artist_id',\n",
    "    'artist_name',\n",
    "    'artist_location',\n",
    "    'artist_latitude',\n",
    "    'artist_longitude'\n",
    "]].drop_duplicates('artist_id').loc[0].to_list()\n",
    "artist_data"
   ]
  },
  {
   "cell_type": "markdown",
   "metadata": {},
   "source": [
    "#### Insert Record into Artist Table\n",
    "Implement the `artist_table_insert` query in `sql_queries.py` and run the cell below to insert a record for this song's artist into the `artists` table. Remember to run `create_tables.py` before running the cell below to ensure you've created/resetted the `artists` table in the sparkify database."
   ]
  },
  {
   "cell_type": "code",
   "execution_count": 11,
   "metadata": {},
   "outputs": [],
   "source": [
    "cur.execute(artist_table_insert, artist_data)\n",
    "conn.commit()"
   ]
  },
  {
   "cell_type": "markdown",
   "metadata": {},
   "source": [
    "Run `test.ipynb` to see if you've successfully added a record to this table."
   ]
  },
  {
   "cell_type": "markdown",
   "metadata": {},
   "source": [
    "# Process `log_data`\n",
    "In this part, you'll perform ETL on the second dataset, `log_data`, to create the `time` and `users` dimensional tables, as well as the `songplays` fact table.\n",
    "\n",
    "Let's perform ETL on a single log file and load a single record into each table.\n",
    "- Use the `get_files` function provided above to get a list of all log JSON files in `data/log_data`\n",
    "- Select the first log file in this list\n",
    "- Read the log file and view the data"
   ]
  },
  {
   "cell_type": "code",
   "execution_count": 12,
   "metadata": {},
   "outputs": [],
   "source": [
    "log_files = get_files('./data/log_data')"
   ]
  },
  {
   "cell_type": "code",
   "execution_count": 13,
   "outputs": [
    {
     "data": {
      "text/plain": "['C:\\\\Users\\\\Fredo\\\\Google Drive\\\\Udacity\\\\dend\\\\_workspace\\\\Part 02-Module 01-Lesson 03_Project Data Modeling with Postgres\\\\data\\\\log_data\\\\2018\\\\11\\\\2018-11-01-events.json',\n 'C:\\\\Users\\\\Fredo\\\\Google Drive\\\\Udacity\\\\dend\\\\_workspace\\\\Part 02-Module 01-Lesson 03_Project Data Modeling with Postgres\\\\data\\\\log_data\\\\2018\\\\11\\\\2018-11-02-events.json',\n 'C:\\\\Users\\\\Fredo\\\\Google Drive\\\\Udacity\\\\dend\\\\_workspace\\\\Part 02-Module 01-Lesson 03_Project Data Modeling with Postgres\\\\data\\\\log_data\\\\2018\\\\11\\\\2018-11-03-events.json',\n 'C:\\\\Users\\\\Fredo\\\\Google Drive\\\\Udacity\\\\dend\\\\_workspace\\\\Part 02-Module 01-Lesson 03_Project Data Modeling with Postgres\\\\data\\\\log_data\\\\2018\\\\11\\\\2018-11-04-events.json',\n 'C:\\\\Users\\\\Fredo\\\\Google Drive\\\\Udacity\\\\dend\\\\_workspace\\\\Part 02-Module 01-Lesson 03_Project Data Modeling with Postgres\\\\data\\\\log_data\\\\2018\\\\11\\\\2018-11-05-events.json',\n 'C:\\\\Users\\\\Fredo\\\\Google Drive\\\\Udacity\\\\dend\\\\_workspace\\\\Part 02-Module 01-Lesson 03_Project Data Modeling with Postgres\\\\data\\\\log_data\\\\2018\\\\11\\\\2018-11-06-events.json',\n 'C:\\\\Users\\\\Fredo\\\\Google Drive\\\\Udacity\\\\dend\\\\_workspace\\\\Part 02-Module 01-Lesson 03_Project Data Modeling with Postgres\\\\data\\\\log_data\\\\2018\\\\11\\\\2018-11-07-events.json',\n 'C:\\\\Users\\\\Fredo\\\\Google Drive\\\\Udacity\\\\dend\\\\_workspace\\\\Part 02-Module 01-Lesson 03_Project Data Modeling with Postgres\\\\data\\\\log_data\\\\2018\\\\11\\\\2018-11-08-events.json',\n 'C:\\\\Users\\\\Fredo\\\\Google Drive\\\\Udacity\\\\dend\\\\_workspace\\\\Part 02-Module 01-Lesson 03_Project Data Modeling with Postgres\\\\data\\\\log_data\\\\2018\\\\11\\\\2018-11-09-events.json',\n 'C:\\\\Users\\\\Fredo\\\\Google Drive\\\\Udacity\\\\dend\\\\_workspace\\\\Part 02-Module 01-Lesson 03_Project Data Modeling with Postgres\\\\data\\\\log_data\\\\2018\\\\11\\\\2018-11-10-events.json',\n 'C:\\\\Users\\\\Fredo\\\\Google Drive\\\\Udacity\\\\dend\\\\_workspace\\\\Part 02-Module 01-Lesson 03_Project Data Modeling with Postgres\\\\data\\\\log_data\\\\2018\\\\11\\\\2018-11-11-events.json',\n 'C:\\\\Users\\\\Fredo\\\\Google Drive\\\\Udacity\\\\dend\\\\_workspace\\\\Part 02-Module 01-Lesson 03_Project Data Modeling with Postgres\\\\data\\\\log_data\\\\2018\\\\11\\\\2018-11-12-events.json',\n 'C:\\\\Users\\\\Fredo\\\\Google Drive\\\\Udacity\\\\dend\\\\_workspace\\\\Part 02-Module 01-Lesson 03_Project Data Modeling with Postgres\\\\data\\\\log_data\\\\2018\\\\11\\\\2018-11-13-events.json',\n 'C:\\\\Users\\\\Fredo\\\\Google Drive\\\\Udacity\\\\dend\\\\_workspace\\\\Part 02-Module 01-Lesson 03_Project Data Modeling with Postgres\\\\data\\\\log_data\\\\2018\\\\11\\\\2018-11-14-events.json',\n 'C:\\\\Users\\\\Fredo\\\\Google Drive\\\\Udacity\\\\dend\\\\_workspace\\\\Part 02-Module 01-Lesson 03_Project Data Modeling with Postgres\\\\data\\\\log_data\\\\2018\\\\11\\\\2018-11-15-events.json',\n 'C:\\\\Users\\\\Fredo\\\\Google Drive\\\\Udacity\\\\dend\\\\_workspace\\\\Part 02-Module 01-Lesson 03_Project Data Modeling with Postgres\\\\data\\\\log_data\\\\2018\\\\11\\\\2018-11-16-events.json',\n 'C:\\\\Users\\\\Fredo\\\\Google Drive\\\\Udacity\\\\dend\\\\_workspace\\\\Part 02-Module 01-Lesson 03_Project Data Modeling with Postgres\\\\data\\\\log_data\\\\2018\\\\11\\\\2018-11-17-events.json',\n 'C:\\\\Users\\\\Fredo\\\\Google Drive\\\\Udacity\\\\dend\\\\_workspace\\\\Part 02-Module 01-Lesson 03_Project Data Modeling with Postgres\\\\data\\\\log_data\\\\2018\\\\11\\\\2018-11-18-events.json',\n 'C:\\\\Users\\\\Fredo\\\\Google Drive\\\\Udacity\\\\dend\\\\_workspace\\\\Part 02-Module 01-Lesson 03_Project Data Modeling with Postgres\\\\data\\\\log_data\\\\2018\\\\11\\\\2018-11-19-events.json',\n 'C:\\\\Users\\\\Fredo\\\\Google Drive\\\\Udacity\\\\dend\\\\_workspace\\\\Part 02-Module 01-Lesson 03_Project Data Modeling with Postgres\\\\data\\\\log_data\\\\2018\\\\11\\\\2018-11-20-events.json',\n 'C:\\\\Users\\\\Fredo\\\\Google Drive\\\\Udacity\\\\dend\\\\_workspace\\\\Part 02-Module 01-Lesson 03_Project Data Modeling with Postgres\\\\data\\\\log_data\\\\2018\\\\11\\\\2018-11-21-events.json',\n 'C:\\\\Users\\\\Fredo\\\\Google Drive\\\\Udacity\\\\dend\\\\_workspace\\\\Part 02-Module 01-Lesson 03_Project Data Modeling with Postgres\\\\data\\\\log_data\\\\2018\\\\11\\\\2018-11-22-events.json',\n 'C:\\\\Users\\\\Fredo\\\\Google Drive\\\\Udacity\\\\dend\\\\_workspace\\\\Part 02-Module 01-Lesson 03_Project Data Modeling with Postgres\\\\data\\\\log_data\\\\2018\\\\11\\\\2018-11-23-events.json',\n 'C:\\\\Users\\\\Fredo\\\\Google Drive\\\\Udacity\\\\dend\\\\_workspace\\\\Part 02-Module 01-Lesson 03_Project Data Modeling with Postgres\\\\data\\\\log_data\\\\2018\\\\11\\\\2018-11-24-events.json',\n 'C:\\\\Users\\\\Fredo\\\\Google Drive\\\\Udacity\\\\dend\\\\_workspace\\\\Part 02-Module 01-Lesson 03_Project Data Modeling with Postgres\\\\data\\\\log_data\\\\2018\\\\11\\\\2018-11-25-events.json',\n 'C:\\\\Users\\\\Fredo\\\\Google Drive\\\\Udacity\\\\dend\\\\_workspace\\\\Part 02-Module 01-Lesson 03_Project Data Modeling with Postgres\\\\data\\\\log_data\\\\2018\\\\11\\\\2018-11-26-events.json',\n 'C:\\\\Users\\\\Fredo\\\\Google Drive\\\\Udacity\\\\dend\\\\_workspace\\\\Part 02-Module 01-Lesson 03_Project Data Modeling with Postgres\\\\data\\\\log_data\\\\2018\\\\11\\\\2018-11-27-events.json',\n 'C:\\\\Users\\\\Fredo\\\\Google Drive\\\\Udacity\\\\dend\\\\_workspace\\\\Part 02-Module 01-Lesson 03_Project Data Modeling with Postgres\\\\data\\\\log_data\\\\2018\\\\11\\\\2018-11-28-events.json',\n 'C:\\\\Users\\\\Fredo\\\\Google Drive\\\\Udacity\\\\dend\\\\_workspace\\\\Part 02-Module 01-Lesson 03_Project Data Modeling with Postgres\\\\data\\\\log_data\\\\2018\\\\11\\\\2018-11-29-events.json',\n 'C:\\\\Users\\\\Fredo\\\\Google Drive\\\\Udacity\\\\dend\\\\_workspace\\\\Part 02-Module 01-Lesson 03_Project Data Modeling with Postgres\\\\data\\\\log_data\\\\2018\\\\11\\\\2018-11-30-events.json']"
     },
     "execution_count": 13,
     "metadata": {},
     "output_type": "execute_result"
    }
   ],
   "source": [
    "log_files"
   ],
   "metadata": {
    "collapsed": false,
    "pycharm": {
     "name": "#%%\n"
    }
   }
  },
  {
   "cell_type": "code",
   "execution_count": 14,
   "metadata": {},
   "outputs": [],
   "source": [
    "filepath = log_files[0]"
   ]
  },
  {
   "cell_type": "code",
   "execution_count": 15,
   "metadata": {},
   "outputs": [
    {
     "data": {
      "text/plain": "                        artist       auth firstName gender  itemInSession  \\\n0                         None  Logged In    Walter      M              0   \n1                         None  Logged In    Kaylee      F              0   \n2                      Des'ree  Logged In    Kaylee      F              1   \n3                         None  Logged In    Kaylee      F              2   \n4                      Mr Oizo  Logged In    Kaylee      F              3   \n5                   Tamba Trio  Logged In    Kaylee      F              4   \n6               The Mars Volta  Logged In    Kaylee      F              5   \n7            Infected Mushroom  Logged In    Kaylee      F              6   \n8   Blue October / Imogen Heap  Logged In    Kaylee      F              7   \n9                    Girl Talk  Logged In    Kaylee      F              8   \n10             Black Eyed Peas  Logged In    Sylvie      F              0   \n11                        None  Logged In      Ryan      M              0   \n12                Fall Out Boy  Logged In      Ryan      M              1   \n13                      M.I.A.  Logged In      Ryan      M              2   \n14                    Survivor  Logged In    Jayden      M              0   \n\n   lastName     length level                                      location  \\\n0      Frye        NaN  free             San Francisco-Oakland-Hayward, CA   \n1   Summers        NaN  free                   Phoenix-Mesa-Scottsdale, AZ   \n2   Summers  246.30812  free                   Phoenix-Mesa-Scottsdale, AZ   \n3   Summers        NaN  free                   Phoenix-Mesa-Scottsdale, AZ   \n4   Summers  144.03873  free                   Phoenix-Mesa-Scottsdale, AZ   \n5   Summers  177.18812  free                   Phoenix-Mesa-Scottsdale, AZ   \n6   Summers  380.42077  free                   Phoenix-Mesa-Scottsdale, AZ   \n7   Summers  440.26730  free                   Phoenix-Mesa-Scottsdale, AZ   \n8   Summers  241.39710  free                   Phoenix-Mesa-Scottsdale, AZ   \n9   Summers  160.15628  free                   Phoenix-Mesa-Scottsdale, AZ   \n10     Cruz  214.93506  free  Washington-Arlington-Alexandria, DC-VA-MD-WV   \n11    Smith        NaN  free            San Jose-Sunnyvale-Santa Clara, CA   \n12    Smith  200.72444  free            San Jose-Sunnyvale-Santa Clara, CA   \n13    Smith  233.71710  free            San Jose-Sunnyvale-Santa Clara, CA   \n14      Fox  245.36771  free                      New Orleans-Metairie, LA   \n\n   method      page   registration  sessionId  \\\n0     GET      Home  1540919166796         38   \n1     GET      Home  1540344794796        139   \n2     PUT  NextSong  1540344794796        139   \n3     GET   Upgrade  1540344794796        139   \n4     PUT  NextSong  1540344794796        139   \n5     PUT  NextSong  1540344794796        139   \n6     PUT  NextSong  1540344794796        139   \n7     PUT  NextSong  1540344794796        139   \n8     PUT  NextSong  1540344794796        139   \n9     PUT  NextSong  1540344794796        139   \n10    PUT  NextSong  1540266185796          9   \n11    GET      Home  1541016707796        169   \n12    PUT  NextSong  1541016707796        169   \n13    PUT  NextSong  1541016707796        169   \n14    PUT  NextSong  1541033612796        100   \n\n                                                song  status             ts  \\\n0                                               None     200  1541105830796   \n1                                               None     200  1541106106796   \n2                                       You Gotta Be     200  1541106106796   \n3                                               None     200  1541106132796   \n4                                            Flat 55     200  1541106352796   \n5                       Quem Quiser Encontrar O Amor     200  1541106496796   \n6                                          Eriatarka     200  1541106673796   \n7                                    Becoming Insane     200  1541107053796   \n8                                    Congratulations     200  1541107493796   \n9                                         Once again     200  1541107734796   \n10                                           Pump It     200  1541108520796   \n11                                              None     200  1541109015796   \n12                    Nobody Puts Baby In The Corner     200  1541109125796   \n13  Mango Pickle Down River (With The Wilcannia Mob)     200  1541109325796   \n14                                  Eye Of The Tiger     200  1541110994796   \n\n                                            userAgent  userId  \n0   \"Mozilla/5.0 (Macintosh; Intel Mac OS X 10_9_4...      39  \n1   \"Mozilla/5.0 (Windows NT 6.1; WOW64) AppleWebK...       8  \n2   \"Mozilla/5.0 (Windows NT 6.1; WOW64) AppleWebK...       8  \n3   \"Mozilla/5.0 (Windows NT 6.1; WOW64) AppleWebK...       8  \n4   \"Mozilla/5.0 (Windows NT 6.1; WOW64) AppleWebK...       8  \n5   \"Mozilla/5.0 (Windows NT 6.1; WOW64) AppleWebK...       8  \n6   \"Mozilla/5.0 (Windows NT 6.1; WOW64) AppleWebK...       8  \n7   \"Mozilla/5.0 (Windows NT 6.1; WOW64) AppleWebK...       8  \n8   \"Mozilla/5.0 (Windows NT 6.1; WOW64) AppleWebK...       8  \n9   \"Mozilla/5.0 (Windows NT 6.1; WOW64) AppleWebK...       8  \n10  \"Mozilla/5.0 (Macintosh; Intel Mac OS X 10_9_4...      10  \n11  \"Mozilla/5.0 (X11; Linux x86_64) AppleWebKit/5...      26  \n12  \"Mozilla/5.0 (X11; Linux x86_64) AppleWebKit/5...      26  \n13  \"Mozilla/5.0 (X11; Linux x86_64) AppleWebKit/5...      26  \n14  \"Mozilla/5.0 (Windows NT 6.3; WOW64) AppleWebK...     101  ",
      "text/html": "<div>\n<style scoped>\n    .dataframe tbody tr th:only-of-type {\n        vertical-align: middle;\n    }\n\n    .dataframe tbody tr th {\n        vertical-align: top;\n    }\n\n    .dataframe thead th {\n        text-align: right;\n    }\n</style>\n<table border=\"1\" class=\"dataframe\">\n  <thead>\n    <tr style=\"text-align: right;\">\n      <th></th>\n      <th>artist</th>\n      <th>auth</th>\n      <th>firstName</th>\n      <th>gender</th>\n      <th>itemInSession</th>\n      <th>lastName</th>\n      <th>length</th>\n      <th>level</th>\n      <th>location</th>\n      <th>method</th>\n      <th>page</th>\n      <th>registration</th>\n      <th>sessionId</th>\n      <th>song</th>\n      <th>status</th>\n      <th>ts</th>\n      <th>userAgent</th>\n      <th>userId</th>\n    </tr>\n  </thead>\n  <tbody>\n    <tr>\n      <th>0</th>\n      <td>None</td>\n      <td>Logged In</td>\n      <td>Walter</td>\n      <td>M</td>\n      <td>0</td>\n      <td>Frye</td>\n      <td>NaN</td>\n      <td>free</td>\n      <td>San Francisco-Oakland-Hayward, CA</td>\n      <td>GET</td>\n      <td>Home</td>\n      <td>1540919166796</td>\n      <td>38</td>\n      <td>None</td>\n      <td>200</td>\n      <td>1541105830796</td>\n      <td>\"Mozilla/5.0 (Macintosh; Intel Mac OS X 10_9_4...</td>\n      <td>39</td>\n    </tr>\n    <tr>\n      <th>1</th>\n      <td>None</td>\n      <td>Logged In</td>\n      <td>Kaylee</td>\n      <td>F</td>\n      <td>0</td>\n      <td>Summers</td>\n      <td>NaN</td>\n      <td>free</td>\n      <td>Phoenix-Mesa-Scottsdale, AZ</td>\n      <td>GET</td>\n      <td>Home</td>\n      <td>1540344794796</td>\n      <td>139</td>\n      <td>None</td>\n      <td>200</td>\n      <td>1541106106796</td>\n      <td>\"Mozilla/5.0 (Windows NT 6.1; WOW64) AppleWebK...</td>\n      <td>8</td>\n    </tr>\n    <tr>\n      <th>2</th>\n      <td>Des'ree</td>\n      <td>Logged In</td>\n      <td>Kaylee</td>\n      <td>F</td>\n      <td>1</td>\n      <td>Summers</td>\n      <td>246.30812</td>\n      <td>free</td>\n      <td>Phoenix-Mesa-Scottsdale, AZ</td>\n      <td>PUT</td>\n      <td>NextSong</td>\n      <td>1540344794796</td>\n      <td>139</td>\n      <td>You Gotta Be</td>\n      <td>200</td>\n      <td>1541106106796</td>\n      <td>\"Mozilla/5.0 (Windows NT 6.1; WOW64) AppleWebK...</td>\n      <td>8</td>\n    </tr>\n    <tr>\n      <th>3</th>\n      <td>None</td>\n      <td>Logged In</td>\n      <td>Kaylee</td>\n      <td>F</td>\n      <td>2</td>\n      <td>Summers</td>\n      <td>NaN</td>\n      <td>free</td>\n      <td>Phoenix-Mesa-Scottsdale, AZ</td>\n      <td>GET</td>\n      <td>Upgrade</td>\n      <td>1540344794796</td>\n      <td>139</td>\n      <td>None</td>\n      <td>200</td>\n      <td>1541106132796</td>\n      <td>\"Mozilla/5.0 (Windows NT 6.1; WOW64) AppleWebK...</td>\n      <td>8</td>\n    </tr>\n    <tr>\n      <th>4</th>\n      <td>Mr Oizo</td>\n      <td>Logged In</td>\n      <td>Kaylee</td>\n      <td>F</td>\n      <td>3</td>\n      <td>Summers</td>\n      <td>144.03873</td>\n      <td>free</td>\n      <td>Phoenix-Mesa-Scottsdale, AZ</td>\n      <td>PUT</td>\n      <td>NextSong</td>\n      <td>1540344794796</td>\n      <td>139</td>\n      <td>Flat 55</td>\n      <td>200</td>\n      <td>1541106352796</td>\n      <td>\"Mozilla/5.0 (Windows NT 6.1; WOW64) AppleWebK...</td>\n      <td>8</td>\n    </tr>\n    <tr>\n      <th>5</th>\n      <td>Tamba Trio</td>\n      <td>Logged In</td>\n      <td>Kaylee</td>\n      <td>F</td>\n      <td>4</td>\n      <td>Summers</td>\n      <td>177.18812</td>\n      <td>free</td>\n      <td>Phoenix-Mesa-Scottsdale, AZ</td>\n      <td>PUT</td>\n      <td>NextSong</td>\n      <td>1540344794796</td>\n      <td>139</td>\n      <td>Quem Quiser Encontrar O Amor</td>\n      <td>200</td>\n      <td>1541106496796</td>\n      <td>\"Mozilla/5.0 (Windows NT 6.1; WOW64) AppleWebK...</td>\n      <td>8</td>\n    </tr>\n    <tr>\n      <th>6</th>\n      <td>The Mars Volta</td>\n      <td>Logged In</td>\n      <td>Kaylee</td>\n      <td>F</td>\n      <td>5</td>\n      <td>Summers</td>\n      <td>380.42077</td>\n      <td>free</td>\n      <td>Phoenix-Mesa-Scottsdale, AZ</td>\n      <td>PUT</td>\n      <td>NextSong</td>\n      <td>1540344794796</td>\n      <td>139</td>\n      <td>Eriatarka</td>\n      <td>200</td>\n      <td>1541106673796</td>\n      <td>\"Mozilla/5.0 (Windows NT 6.1; WOW64) AppleWebK...</td>\n      <td>8</td>\n    </tr>\n    <tr>\n      <th>7</th>\n      <td>Infected Mushroom</td>\n      <td>Logged In</td>\n      <td>Kaylee</td>\n      <td>F</td>\n      <td>6</td>\n      <td>Summers</td>\n      <td>440.26730</td>\n      <td>free</td>\n      <td>Phoenix-Mesa-Scottsdale, AZ</td>\n      <td>PUT</td>\n      <td>NextSong</td>\n      <td>1540344794796</td>\n      <td>139</td>\n      <td>Becoming Insane</td>\n      <td>200</td>\n      <td>1541107053796</td>\n      <td>\"Mozilla/5.0 (Windows NT 6.1; WOW64) AppleWebK...</td>\n      <td>8</td>\n    </tr>\n    <tr>\n      <th>8</th>\n      <td>Blue October / Imogen Heap</td>\n      <td>Logged In</td>\n      <td>Kaylee</td>\n      <td>F</td>\n      <td>7</td>\n      <td>Summers</td>\n      <td>241.39710</td>\n      <td>free</td>\n      <td>Phoenix-Mesa-Scottsdale, AZ</td>\n      <td>PUT</td>\n      <td>NextSong</td>\n      <td>1540344794796</td>\n      <td>139</td>\n      <td>Congratulations</td>\n      <td>200</td>\n      <td>1541107493796</td>\n      <td>\"Mozilla/5.0 (Windows NT 6.1; WOW64) AppleWebK...</td>\n      <td>8</td>\n    </tr>\n    <tr>\n      <th>9</th>\n      <td>Girl Talk</td>\n      <td>Logged In</td>\n      <td>Kaylee</td>\n      <td>F</td>\n      <td>8</td>\n      <td>Summers</td>\n      <td>160.15628</td>\n      <td>free</td>\n      <td>Phoenix-Mesa-Scottsdale, AZ</td>\n      <td>PUT</td>\n      <td>NextSong</td>\n      <td>1540344794796</td>\n      <td>139</td>\n      <td>Once again</td>\n      <td>200</td>\n      <td>1541107734796</td>\n      <td>\"Mozilla/5.0 (Windows NT 6.1; WOW64) AppleWebK...</td>\n      <td>8</td>\n    </tr>\n    <tr>\n      <th>10</th>\n      <td>Black Eyed Peas</td>\n      <td>Logged In</td>\n      <td>Sylvie</td>\n      <td>F</td>\n      <td>0</td>\n      <td>Cruz</td>\n      <td>214.93506</td>\n      <td>free</td>\n      <td>Washington-Arlington-Alexandria, DC-VA-MD-WV</td>\n      <td>PUT</td>\n      <td>NextSong</td>\n      <td>1540266185796</td>\n      <td>9</td>\n      <td>Pump It</td>\n      <td>200</td>\n      <td>1541108520796</td>\n      <td>\"Mozilla/5.0 (Macintosh; Intel Mac OS X 10_9_4...</td>\n      <td>10</td>\n    </tr>\n    <tr>\n      <th>11</th>\n      <td>None</td>\n      <td>Logged In</td>\n      <td>Ryan</td>\n      <td>M</td>\n      <td>0</td>\n      <td>Smith</td>\n      <td>NaN</td>\n      <td>free</td>\n      <td>San Jose-Sunnyvale-Santa Clara, CA</td>\n      <td>GET</td>\n      <td>Home</td>\n      <td>1541016707796</td>\n      <td>169</td>\n      <td>None</td>\n      <td>200</td>\n      <td>1541109015796</td>\n      <td>\"Mozilla/5.0 (X11; Linux x86_64) AppleWebKit/5...</td>\n      <td>26</td>\n    </tr>\n    <tr>\n      <th>12</th>\n      <td>Fall Out Boy</td>\n      <td>Logged In</td>\n      <td>Ryan</td>\n      <td>M</td>\n      <td>1</td>\n      <td>Smith</td>\n      <td>200.72444</td>\n      <td>free</td>\n      <td>San Jose-Sunnyvale-Santa Clara, CA</td>\n      <td>PUT</td>\n      <td>NextSong</td>\n      <td>1541016707796</td>\n      <td>169</td>\n      <td>Nobody Puts Baby In The Corner</td>\n      <td>200</td>\n      <td>1541109125796</td>\n      <td>\"Mozilla/5.0 (X11; Linux x86_64) AppleWebKit/5...</td>\n      <td>26</td>\n    </tr>\n    <tr>\n      <th>13</th>\n      <td>M.I.A.</td>\n      <td>Logged In</td>\n      <td>Ryan</td>\n      <td>M</td>\n      <td>2</td>\n      <td>Smith</td>\n      <td>233.71710</td>\n      <td>free</td>\n      <td>San Jose-Sunnyvale-Santa Clara, CA</td>\n      <td>PUT</td>\n      <td>NextSong</td>\n      <td>1541016707796</td>\n      <td>169</td>\n      <td>Mango Pickle Down River (With The Wilcannia Mob)</td>\n      <td>200</td>\n      <td>1541109325796</td>\n      <td>\"Mozilla/5.0 (X11; Linux x86_64) AppleWebKit/5...</td>\n      <td>26</td>\n    </tr>\n    <tr>\n      <th>14</th>\n      <td>Survivor</td>\n      <td>Logged In</td>\n      <td>Jayden</td>\n      <td>M</td>\n      <td>0</td>\n      <td>Fox</td>\n      <td>245.36771</td>\n      <td>free</td>\n      <td>New Orleans-Metairie, LA</td>\n      <td>PUT</td>\n      <td>NextSong</td>\n      <td>1541033612796</td>\n      <td>100</td>\n      <td>Eye Of The Tiger</td>\n      <td>200</td>\n      <td>1541110994796</td>\n      <td>\"Mozilla/5.0 (Windows NT 6.3; WOW64) AppleWebK...</td>\n      <td>101</td>\n    </tr>\n  </tbody>\n</table>\n</div>"
     },
     "execution_count": 15,
     "metadata": {},
     "output_type": "execute_result"
    }
   ],
   "source": [
    "df = pd.read_json(filepath, lines=True, orient='record')\n",
    "df"
   ]
  },
  {
   "cell_type": "markdown",
   "metadata": {},
   "source": [
    "### 3: `time` Table\n",
    "#### Extract Data for Time Table\n",
    "- Filter records by `NextSong` action\n",
    "- Convert the `ts` timestamp column to datetime\n",
    "  - Hint: the current timestamp is in milliseconds\n",
    "- Extract the timestamp, hour, day, week of year, month, year, and weekday from the `ts` column and set `time_data` to a list containing these values in order\n",
    "  - Hint: use pandas' [`dt` attribute](https://pandas.pydata.org/pandas-docs/stable/reference/api/pandas.Series.dt.html) to access easily datetimelike properties.\n",
    "- Specify labels for these columns and set to `column_labels`\n",
    "- Create a dataframe, `time_df,` containing the time data for this file by combining `column_labels` and `time_data` into a dictionary and converting this into a dataframe"
   ]
  },
  {
   "cell_type": "code",
   "execution_count": 16,
   "metadata": {},
   "outputs": [
    {
     "data": {
      "text/plain": "              artist       auth firstName gender  itemInSession lastName  \\\n2            Des'ree  Logged In    Kaylee      F              1  Summers   \n4            Mr Oizo  Logged In    Kaylee      F              3  Summers   \n5         Tamba Trio  Logged In    Kaylee      F              4  Summers   \n6     The Mars Volta  Logged In    Kaylee      F              5  Summers   \n7  Infected Mushroom  Logged In    Kaylee      F              6  Summers   \n\n      length level                     location method      page  \\\n2  246.30812  free  Phoenix-Mesa-Scottsdale, AZ    PUT  NextSong   \n4  144.03873  free  Phoenix-Mesa-Scottsdale, AZ    PUT  NextSong   \n5  177.18812  free  Phoenix-Mesa-Scottsdale, AZ    PUT  NextSong   \n6  380.42077  free  Phoenix-Mesa-Scottsdale, AZ    PUT  NextSong   \n7  440.26730  free  Phoenix-Mesa-Scottsdale, AZ    PUT  NextSong   \n\n    registration  sessionId                          song  status  \\\n2  1540344794796        139                  You Gotta Be     200   \n4  1540344794796        139                       Flat 55     200   \n5  1540344794796        139  Quem Quiser Encontrar O Amor     200   \n6  1540344794796        139                     Eriatarka     200   \n7  1540344794796        139               Becoming Insane     200   \n\n              ts                                          userAgent  userId  \n2  1541106106796  \"Mozilla/5.0 (Windows NT 6.1; WOW64) AppleWebK...       8  \n4  1541106352796  \"Mozilla/5.0 (Windows NT 6.1; WOW64) AppleWebK...       8  \n5  1541106496796  \"Mozilla/5.0 (Windows NT 6.1; WOW64) AppleWebK...       8  \n6  1541106673796  \"Mozilla/5.0 (Windows NT 6.1; WOW64) AppleWebK...       8  \n7  1541107053796  \"Mozilla/5.0 (Windows NT 6.1; WOW64) AppleWebK...       8  ",
      "text/html": "<div>\n<style scoped>\n    .dataframe tbody tr th:only-of-type {\n        vertical-align: middle;\n    }\n\n    .dataframe tbody tr th {\n        vertical-align: top;\n    }\n\n    .dataframe thead th {\n        text-align: right;\n    }\n</style>\n<table border=\"1\" class=\"dataframe\">\n  <thead>\n    <tr style=\"text-align: right;\">\n      <th></th>\n      <th>artist</th>\n      <th>auth</th>\n      <th>firstName</th>\n      <th>gender</th>\n      <th>itemInSession</th>\n      <th>lastName</th>\n      <th>length</th>\n      <th>level</th>\n      <th>location</th>\n      <th>method</th>\n      <th>page</th>\n      <th>registration</th>\n      <th>sessionId</th>\n      <th>song</th>\n      <th>status</th>\n      <th>ts</th>\n      <th>userAgent</th>\n      <th>userId</th>\n    </tr>\n  </thead>\n  <tbody>\n    <tr>\n      <th>2</th>\n      <td>Des'ree</td>\n      <td>Logged In</td>\n      <td>Kaylee</td>\n      <td>F</td>\n      <td>1</td>\n      <td>Summers</td>\n      <td>246.30812</td>\n      <td>free</td>\n      <td>Phoenix-Mesa-Scottsdale, AZ</td>\n      <td>PUT</td>\n      <td>NextSong</td>\n      <td>1540344794796</td>\n      <td>139</td>\n      <td>You Gotta Be</td>\n      <td>200</td>\n      <td>1541106106796</td>\n      <td>\"Mozilla/5.0 (Windows NT 6.1; WOW64) AppleWebK...</td>\n      <td>8</td>\n    </tr>\n    <tr>\n      <th>4</th>\n      <td>Mr Oizo</td>\n      <td>Logged In</td>\n      <td>Kaylee</td>\n      <td>F</td>\n      <td>3</td>\n      <td>Summers</td>\n      <td>144.03873</td>\n      <td>free</td>\n      <td>Phoenix-Mesa-Scottsdale, AZ</td>\n      <td>PUT</td>\n      <td>NextSong</td>\n      <td>1540344794796</td>\n      <td>139</td>\n      <td>Flat 55</td>\n      <td>200</td>\n      <td>1541106352796</td>\n      <td>\"Mozilla/5.0 (Windows NT 6.1; WOW64) AppleWebK...</td>\n      <td>8</td>\n    </tr>\n    <tr>\n      <th>5</th>\n      <td>Tamba Trio</td>\n      <td>Logged In</td>\n      <td>Kaylee</td>\n      <td>F</td>\n      <td>4</td>\n      <td>Summers</td>\n      <td>177.18812</td>\n      <td>free</td>\n      <td>Phoenix-Mesa-Scottsdale, AZ</td>\n      <td>PUT</td>\n      <td>NextSong</td>\n      <td>1540344794796</td>\n      <td>139</td>\n      <td>Quem Quiser Encontrar O Amor</td>\n      <td>200</td>\n      <td>1541106496796</td>\n      <td>\"Mozilla/5.0 (Windows NT 6.1; WOW64) AppleWebK...</td>\n      <td>8</td>\n    </tr>\n    <tr>\n      <th>6</th>\n      <td>The Mars Volta</td>\n      <td>Logged In</td>\n      <td>Kaylee</td>\n      <td>F</td>\n      <td>5</td>\n      <td>Summers</td>\n      <td>380.42077</td>\n      <td>free</td>\n      <td>Phoenix-Mesa-Scottsdale, AZ</td>\n      <td>PUT</td>\n      <td>NextSong</td>\n      <td>1540344794796</td>\n      <td>139</td>\n      <td>Eriatarka</td>\n      <td>200</td>\n      <td>1541106673796</td>\n      <td>\"Mozilla/5.0 (Windows NT 6.1; WOW64) AppleWebK...</td>\n      <td>8</td>\n    </tr>\n    <tr>\n      <th>7</th>\n      <td>Infected Mushroom</td>\n      <td>Logged In</td>\n      <td>Kaylee</td>\n      <td>F</td>\n      <td>6</td>\n      <td>Summers</td>\n      <td>440.26730</td>\n      <td>free</td>\n      <td>Phoenix-Mesa-Scottsdale, AZ</td>\n      <td>PUT</td>\n      <td>NextSong</td>\n      <td>1540344794796</td>\n      <td>139</td>\n      <td>Becoming Insane</td>\n      <td>200</td>\n      <td>1541107053796</td>\n      <td>\"Mozilla/5.0 (Windows NT 6.1; WOW64) AppleWebK...</td>\n      <td>8</td>\n    </tr>\n  </tbody>\n</table>\n</div>"
     },
     "execution_count": 16,
     "metadata": {},
     "output_type": "execute_result"
    }
   ],
   "source": [
    "df = df[df['page'] == 'NextSong']\n",
    "df.head()"
   ]
  },
  {
   "cell_type": "code",
   "execution_count": 17,
   "metadata": {},
   "outputs": [
    {
     "data": {
      "text/plain": "2   2018-11-01 21:01:46.796\n4   2018-11-01 21:05:52.796\n5   2018-11-01 21:08:16.796\n6   2018-11-01 21:11:13.796\n7   2018-11-01 21:17:33.796\nName: ts, dtype: datetime64[ns]"
     },
     "execution_count": 17,
     "metadata": {},
     "output_type": "execute_result"
    }
   ],
   "source": [
    "t = pd.to_datetime(df['ts'], unit='ms')\n",
    "t.head()"
   ]
  },
  {
   "cell_type": "code",
   "execution_count": 18,
   "metadata": {},
   "outputs": [
    {
     "name": "stderr",
     "output_type": "stream",
     "text": [
      "C:\\Users\\Fredo\\AppData\\Local\\Temp/ipykernel_1016/1595238758.py:6: FutureWarning: Series.dt.weekofyear and Series.dt.week have been deprecated.  Please use Series.dt.isocalendar().week instead.\n",
      "  t.dt.week,\n"
     ]
    }
   ],
   "source": [
    "time_data = [\n",
    "    # timestamp, hour, day, week of year, month, year, and weekday\n",
    "    t,\n",
    "    t.dt.hour,\n",
    "    t.dt.day,\n",
    "    t.dt.week,\n",
    "    t.dt.month,\n",
    "    t.dt.year,\n",
    "    t.dt.weekday\n",
    "]\n",
    "column_labels = ['start_time', 'hour', 'day', 'week', 'month', 'year', 'weekday']"
   ]
  },
  {
   "cell_type": "code",
   "execution_count": 19,
   "metadata": {},
   "outputs": [
    {
     "data": {
      "text/plain": "               start_time  hour  day  week  month  year  weekday\n2 2018-11-01 21:01:46.796    21    1    44     11  2018        3\n4 2018-11-01 21:05:52.796    21    1    44     11  2018        3\n5 2018-11-01 21:08:16.796    21    1    44     11  2018        3\n6 2018-11-01 21:11:13.796    21    1    44     11  2018        3\n7 2018-11-01 21:17:33.796    21    1    44     11  2018        3",
      "text/html": "<div>\n<style scoped>\n    .dataframe tbody tr th:only-of-type {\n        vertical-align: middle;\n    }\n\n    .dataframe tbody tr th {\n        vertical-align: top;\n    }\n\n    .dataframe thead th {\n        text-align: right;\n    }\n</style>\n<table border=\"1\" class=\"dataframe\">\n  <thead>\n    <tr style=\"text-align: right;\">\n      <th></th>\n      <th>start_time</th>\n      <th>hour</th>\n      <th>day</th>\n      <th>week</th>\n      <th>month</th>\n      <th>year</th>\n      <th>weekday</th>\n    </tr>\n  </thead>\n  <tbody>\n    <tr>\n      <th>2</th>\n      <td>2018-11-01 21:01:46.796</td>\n      <td>21</td>\n      <td>1</td>\n      <td>44</td>\n      <td>11</td>\n      <td>2018</td>\n      <td>3</td>\n    </tr>\n    <tr>\n      <th>4</th>\n      <td>2018-11-01 21:05:52.796</td>\n      <td>21</td>\n      <td>1</td>\n      <td>44</td>\n      <td>11</td>\n      <td>2018</td>\n      <td>3</td>\n    </tr>\n    <tr>\n      <th>5</th>\n      <td>2018-11-01 21:08:16.796</td>\n      <td>21</td>\n      <td>1</td>\n      <td>44</td>\n      <td>11</td>\n      <td>2018</td>\n      <td>3</td>\n    </tr>\n    <tr>\n      <th>6</th>\n      <td>2018-11-01 21:11:13.796</td>\n      <td>21</td>\n      <td>1</td>\n      <td>44</td>\n      <td>11</td>\n      <td>2018</td>\n      <td>3</td>\n    </tr>\n    <tr>\n      <th>7</th>\n      <td>2018-11-01 21:17:33.796</td>\n      <td>21</td>\n      <td>1</td>\n      <td>44</td>\n      <td>11</td>\n      <td>2018</td>\n      <td>3</td>\n    </tr>\n  </tbody>\n</table>\n</div>"
     },
     "execution_count": 19,
     "metadata": {},
     "output_type": "execute_result"
    }
   ],
   "source": [
    "time_df = pd.DataFrame(dict(zip(column_labels, time_data)))\n",
    "time_df.head()"
   ]
  },
  {
   "cell_type": "markdown",
   "metadata": {},
   "source": [
    "#### Insert Records into Time Table\n",
    "Implement the `time_table_insert` query in `sql_queries.py` and run the cell below to insert records for the timestamps in this log file into the `time` table. Remember to run `create_tables.py` before running the cell below to ensure you've created/resetted the `time` table in the sparkify database."
   ]
  },
  {
   "cell_type": "code",
   "execution_count": 20,
   "metadata": {},
   "outputs": [],
   "source": [
    "for i, row in time_df.iterrows():\n",
    "    cur.execute(time_table_insert, list(row))\n",
    "    conn.commit()"
   ]
  },
  {
   "cell_type": "markdown",
   "metadata": {},
   "source": [
    "Run `test.ipynb` to see if you've successfully added records to this table."
   ]
  },
  {
   "cell_type": "markdown",
   "metadata": {},
   "source": [
    "## #4: `users` Table\n",
    "#### Extract Data for Users Table\n",
    "- Select columns for user ID, first name, last name, gender and level and set to `user_df`"
   ]
  },
  {
   "cell_type": "code",
   "execution_count": 21,
   "outputs": [
    {
     "data": {
      "text/plain": "Index(['artist', 'auth', 'firstName', 'gender', 'itemInSession', 'lastName',\n       'length', 'level', 'location', 'method', 'page', 'registration',\n       'sessionId', 'song', 'status', 'ts', 'userAgent', 'userId'],\n      dtype='object')"
     },
     "execution_count": 21,
     "metadata": {},
     "output_type": "execute_result"
    }
   ],
   "source": [
    "df.columns"
   ],
   "metadata": {
    "collapsed": false,
    "pycharm": {
     "name": "#%%\n"
    }
   }
  },
  {
   "cell_type": "code",
   "execution_count": 22,
   "metadata": {},
   "outputs": [
    {
     "data": {
      "text/plain": "    userId firstName lastName gender level\n2        8    Kaylee  Summers      F  free\n10      10    Sylvie     Cruz      F  free\n12      26      Ryan    Smith      M  free\n14     101    Jayden      Fox      M  free",
      "text/html": "<div>\n<style scoped>\n    .dataframe tbody tr th:only-of-type {\n        vertical-align: middle;\n    }\n\n    .dataframe tbody tr th {\n        vertical-align: top;\n    }\n\n    .dataframe thead th {\n        text-align: right;\n    }\n</style>\n<table border=\"1\" class=\"dataframe\">\n  <thead>\n    <tr style=\"text-align: right;\">\n      <th></th>\n      <th>userId</th>\n      <th>firstName</th>\n      <th>lastName</th>\n      <th>gender</th>\n      <th>level</th>\n    </tr>\n  </thead>\n  <tbody>\n    <tr>\n      <th>2</th>\n      <td>8</td>\n      <td>Kaylee</td>\n      <td>Summers</td>\n      <td>F</td>\n      <td>free</td>\n    </tr>\n    <tr>\n      <th>10</th>\n      <td>10</td>\n      <td>Sylvie</td>\n      <td>Cruz</td>\n      <td>F</td>\n      <td>free</td>\n    </tr>\n    <tr>\n      <th>12</th>\n      <td>26</td>\n      <td>Ryan</td>\n      <td>Smith</td>\n      <td>M</td>\n      <td>free</td>\n    </tr>\n    <tr>\n      <th>14</th>\n      <td>101</td>\n      <td>Jayden</td>\n      <td>Fox</td>\n      <td>M</td>\n      <td>free</td>\n    </tr>\n  </tbody>\n</table>\n</div>"
     },
     "execution_count": 22,
     "metadata": {},
     "output_type": "execute_result"
    }
   ],
   "source": [
    "user_df = df[['userId', 'firstName', 'lastName', 'gender', 'level']].drop_duplicates()\n",
    "user_df.head()"
   ]
  },
  {
   "cell_type": "markdown",
   "metadata": {},
   "source": [
    "#### Insert Records into Users Table\n",
    "Implement the `user_table_insert` query in `sql_queries.py` and run the cell below to insert records for the users in this log file into the `users` table. Remember to run `create_tables.py` before running the cell below to ensure you've created/resetted the `users` table in the sparkify database."
   ]
  },
  {
   "cell_type": "code",
   "execution_count": 23,
   "metadata": {},
   "outputs": [],
   "source": [
    "for i, row in user_df.iterrows():\n",
    "    cur.execute(user_table_insert, row)\n",
    "    conn.commit()"
   ]
  },
  {
   "cell_type": "markdown",
   "metadata": {},
   "source": [
    "Run `test.ipynb` to see if you've successfully added records to this table."
   ]
  },
  {
   "cell_type": "markdown",
   "metadata": {},
   "source": [
    "## #5: `songplays` Table\n",
    "#### Extract Data and Songplays Table\n",
    "This one is a little more complicated since information from the songs table, artists table, and original log file are all needed for the `songplays` table. Since the log file does not specify an ID for either the song or the artist, you'll need to get the song ID and artist ID by querying the songs and artists tables to find matches based on song title, artist name, and song duration time.\n",
    "- Implement the `song_select` query in `sql_queries.py` to find the song ID and artist ID based on the title, artist name, and duration of a song.\n",
    "- Select the timestamp, user ID, level, song ID, artist ID, session ID, location, and user agent and set to `songplay_data`\n",
    "\n",
    "#### Insert Records into Songplays Table\n",
    "- Implement the `songplay_table_insert` query and run the cell below to insert records for the songplay actions in this log file into the `songplays` table. Remember to run `create_tables.py` before running the cell below to ensure you've created/resetted the `songplays` table in the sparkify database."
   ]
  },
  {
   "cell_type": "code",
   "execution_count": 24,
   "outputs": [
    {
     "data": {
      "text/plain": "              artist       auth firstName gender  itemInSession lastName  \\\n2            Des'ree  Logged In    Kaylee      F              1  Summers   \n4            Mr Oizo  Logged In    Kaylee      F              3  Summers   \n5         Tamba Trio  Logged In    Kaylee      F              4  Summers   \n6     The Mars Volta  Logged In    Kaylee      F              5  Summers   \n7  Infected Mushroom  Logged In    Kaylee      F              6  Summers   \n\n      length level                     location method      page  \\\n2  246.30812  free  Phoenix-Mesa-Scottsdale, AZ    PUT  NextSong   \n4  144.03873  free  Phoenix-Mesa-Scottsdale, AZ    PUT  NextSong   \n5  177.18812  free  Phoenix-Mesa-Scottsdale, AZ    PUT  NextSong   \n6  380.42077  free  Phoenix-Mesa-Scottsdale, AZ    PUT  NextSong   \n7  440.26730  free  Phoenix-Mesa-Scottsdale, AZ    PUT  NextSong   \n\n    registration  sessionId                          song  status  \\\n2  1540344794796        139                  You Gotta Be     200   \n4  1540344794796        139                       Flat 55     200   \n5  1540344794796        139  Quem Quiser Encontrar O Amor     200   \n6  1540344794796        139                     Eriatarka     200   \n7  1540344794796        139               Becoming Insane     200   \n\n              ts                                          userAgent  userId  \n2  1541106106796  \"Mozilla/5.0 (Windows NT 6.1; WOW64) AppleWebK...       8  \n4  1541106352796  \"Mozilla/5.0 (Windows NT 6.1; WOW64) AppleWebK...       8  \n5  1541106496796  \"Mozilla/5.0 (Windows NT 6.1; WOW64) AppleWebK...       8  \n6  1541106673796  \"Mozilla/5.0 (Windows NT 6.1; WOW64) AppleWebK...       8  \n7  1541107053796  \"Mozilla/5.0 (Windows NT 6.1; WOW64) AppleWebK...       8  ",
      "text/html": "<div>\n<style scoped>\n    .dataframe tbody tr th:only-of-type {\n        vertical-align: middle;\n    }\n\n    .dataframe tbody tr th {\n        vertical-align: top;\n    }\n\n    .dataframe thead th {\n        text-align: right;\n    }\n</style>\n<table border=\"1\" class=\"dataframe\">\n  <thead>\n    <tr style=\"text-align: right;\">\n      <th></th>\n      <th>artist</th>\n      <th>auth</th>\n      <th>firstName</th>\n      <th>gender</th>\n      <th>itemInSession</th>\n      <th>lastName</th>\n      <th>length</th>\n      <th>level</th>\n      <th>location</th>\n      <th>method</th>\n      <th>page</th>\n      <th>registration</th>\n      <th>sessionId</th>\n      <th>song</th>\n      <th>status</th>\n      <th>ts</th>\n      <th>userAgent</th>\n      <th>userId</th>\n    </tr>\n  </thead>\n  <tbody>\n    <tr>\n      <th>2</th>\n      <td>Des'ree</td>\n      <td>Logged In</td>\n      <td>Kaylee</td>\n      <td>F</td>\n      <td>1</td>\n      <td>Summers</td>\n      <td>246.30812</td>\n      <td>free</td>\n      <td>Phoenix-Mesa-Scottsdale, AZ</td>\n      <td>PUT</td>\n      <td>NextSong</td>\n      <td>1540344794796</td>\n      <td>139</td>\n      <td>You Gotta Be</td>\n      <td>200</td>\n      <td>1541106106796</td>\n      <td>\"Mozilla/5.0 (Windows NT 6.1; WOW64) AppleWebK...</td>\n      <td>8</td>\n    </tr>\n    <tr>\n      <th>4</th>\n      <td>Mr Oizo</td>\n      <td>Logged In</td>\n      <td>Kaylee</td>\n      <td>F</td>\n      <td>3</td>\n      <td>Summers</td>\n      <td>144.03873</td>\n      <td>free</td>\n      <td>Phoenix-Mesa-Scottsdale, AZ</td>\n      <td>PUT</td>\n      <td>NextSong</td>\n      <td>1540344794796</td>\n      <td>139</td>\n      <td>Flat 55</td>\n      <td>200</td>\n      <td>1541106352796</td>\n      <td>\"Mozilla/5.0 (Windows NT 6.1; WOW64) AppleWebK...</td>\n      <td>8</td>\n    </tr>\n    <tr>\n      <th>5</th>\n      <td>Tamba Trio</td>\n      <td>Logged In</td>\n      <td>Kaylee</td>\n      <td>F</td>\n      <td>4</td>\n      <td>Summers</td>\n      <td>177.18812</td>\n      <td>free</td>\n      <td>Phoenix-Mesa-Scottsdale, AZ</td>\n      <td>PUT</td>\n      <td>NextSong</td>\n      <td>1540344794796</td>\n      <td>139</td>\n      <td>Quem Quiser Encontrar O Amor</td>\n      <td>200</td>\n      <td>1541106496796</td>\n      <td>\"Mozilla/5.0 (Windows NT 6.1; WOW64) AppleWebK...</td>\n      <td>8</td>\n    </tr>\n    <tr>\n      <th>6</th>\n      <td>The Mars Volta</td>\n      <td>Logged In</td>\n      <td>Kaylee</td>\n      <td>F</td>\n      <td>5</td>\n      <td>Summers</td>\n      <td>380.42077</td>\n      <td>free</td>\n      <td>Phoenix-Mesa-Scottsdale, AZ</td>\n      <td>PUT</td>\n      <td>NextSong</td>\n      <td>1540344794796</td>\n      <td>139</td>\n      <td>Eriatarka</td>\n      <td>200</td>\n      <td>1541106673796</td>\n      <td>\"Mozilla/5.0 (Windows NT 6.1; WOW64) AppleWebK...</td>\n      <td>8</td>\n    </tr>\n    <tr>\n      <th>7</th>\n      <td>Infected Mushroom</td>\n      <td>Logged In</td>\n      <td>Kaylee</td>\n      <td>F</td>\n      <td>6</td>\n      <td>Summers</td>\n      <td>440.26730</td>\n      <td>free</td>\n      <td>Phoenix-Mesa-Scottsdale, AZ</td>\n      <td>PUT</td>\n      <td>NextSong</td>\n      <td>1540344794796</td>\n      <td>139</td>\n      <td>Becoming Insane</td>\n      <td>200</td>\n      <td>1541107053796</td>\n      <td>\"Mozilla/5.0 (Windows NT 6.1; WOW64) AppleWebK...</td>\n      <td>8</td>\n    </tr>\n  </tbody>\n</table>\n</div>"
     },
     "execution_count": 24,
     "metadata": {},
     "output_type": "execute_result"
    }
   ],
   "source": [
    "df.head()"
   ],
   "metadata": {
    "collapsed": false,
    "pycharm": {
     "name": "#%%\n"
    }
   }
  },
  {
   "cell_type": "code",
   "execution_count": 25,
   "metadata": {},
   "outputs": [],
   "source": [
    "for index, row in df.iterrows():\n",
    "\n",
    "    # get songid and artistid from song and artist tables\n",
    "    cur.execute(song_select, (row.song, row.artist, row.length))\n",
    "    results = cur.fetchone()\n",
    "    \n",
    "    if results:\n",
    "        songid, artistid = results\n",
    "    else:\n",
    "        songid, artistid = None, None\n",
    "\n",
    "    # insert songplay record\n",
    "    songplay_data = [\n",
    "        row.userId,\n",
    "        pd.to_datetime(row.ts, unit='ms'),\n",
    "        row.level,\n",
    "        songid,\n",
    "        artistid,\n",
    "        row.sessionId,\n",
    "        row.location,\n",
    "        row.userAgent\n",
    "    ]\n",
    "    cur.execute(songplay_table_insert, songplay_data)\n",
    "    conn.commit()"
   ]
  },
  {
   "cell_type": "markdown",
   "metadata": {},
   "source": [
    "Run `test.ipynb` to see if you've successfully added records to this table."
   ]
  },
  {
   "cell_type": "markdown",
   "metadata": {},
   "source": [
    "# Close Connection to Sparkify Database"
   ]
  },
  {
   "cell_type": "code",
   "execution_count": 27,
   "metadata": {},
   "outputs": [],
   "source": [
    "conn.close()"
   ]
  },
  {
   "cell_type": "markdown",
   "metadata": {},
   "source": [
    "# Implement `etl.py`\n",
    "Use what you've completed in this notebook to implement `etl.py`."
   ]
  },
  {
   "cell_type": "code",
   "execution_count": 27,
   "metadata": {},
   "outputs": [],
   "source": []
  }
 ],
 "metadata": {
  "kernelspec": {
   "name": "pycharm-ae670e8e",
   "language": "python",
   "display_name": "PyCharm (Part 02-Module 01-Lesson 03_Project Data Modeling with Postgres)"
  },
  "language_info": {
   "codemirror_mode": {
    "name": "ipython",
    "version": 3
   },
   "file_extension": ".py",
   "mimetype": "text/x-python",
   "name": "python",
   "nbconvert_exporter": "python",
   "pygments_lexer": "ipython3",
   "version": "3.6.3"
  }
 },
 "nbformat": 4,
 "nbformat_minor": 2
}